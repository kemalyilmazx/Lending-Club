{
 "cells": [
  {
   "cell_type": "code",
   "execution_count": 1,
   "metadata": {
    "collapsed": true
   },
   "outputs": [],
   "source": [
    "import pandas as pd\n",
    "import numpy as np\n",
    "import seaborn as sns\n",
    "import matplotlib.pyplot as plt\n",
    "% matplotlib inline "
   ]
  },
  {
   "cell_type": "code",
   "execution_count": 2,
   "metadata": {},
   "outputs": [
    {
     "name": "stderr",
     "output_type": "stream",
     "text": [
      "C:\\Users\\Mehmet\\Anaconda3\\lib\\site-packages\\sklearn\\cross_validation.py:44: DeprecationWarning: This module was deprecated in version 0.18 in favor of the model_selection module into which all the refactored classes and functions are moved. Also note that the interface of the new CV iterators are different from that of this module. This module will be removed in 0.20.\n",
      "  \"This module will be removed in 0.20.\", DeprecationWarning)\n"
     ]
    }
   ],
   "source": [
    "from sklearn.cross_validation import train_test_split\n",
    "from sklearn.linear_model import LogisticRegression"
   ]
  },
  {
   "cell_type": "code",
   "execution_count": 3,
   "metadata": {
    "collapsed": true
   },
   "outputs": [],
   "source": [
    "import os"
   ]
  },
  {
   "cell_type": "code",
   "execution_count": 4,
   "metadata": {},
   "outputs": [
    {
     "data": {
      "text/plain": [
       "'C:\\\\Users\\\\Mehmet'"
      ]
     },
     "execution_count": 4,
     "metadata": {},
     "output_type": "execute_result"
    }
   ],
   "source": [
    "os.getcwd()"
   ]
  },
  {
   "cell_type": "code",
   "execution_count": 5,
   "metadata": {
    "collapsed": true
   },
   "outputs": [],
   "source": [
    "lc = pd.read_csv(\"Lending_Club_Loan_Status_2017Q2.csv\")"
   ]
  },
  {
   "cell_type": "code",
   "execution_count": 6,
   "metadata": {},
   "outputs": [
    {
     "data": {
      "text/html": [
       "<div>\n",
       "<style>\n",
       "    .dataframe thead tr:only-child th {\n",
       "        text-align: right;\n",
       "    }\n",
       "\n",
       "    .dataframe thead th {\n",
       "        text-align: left;\n",
       "    }\n",
       "\n",
       "    .dataframe tbody tr th {\n",
       "        vertical-align: top;\n",
       "    }\n",
       "</style>\n",
       "<table border=\"1\" class=\"dataframe\">\n",
       "  <thead>\n",
       "    <tr style=\"text-align: right;\">\n",
       "      <th></th>\n",
       "      <th>id</th>\n",
       "      <th>loan_amnt</th>\n",
       "      <th>term</th>\n",
       "      <th>int_rate</th>\n",
       "      <th>installment</th>\n",
       "      <th>grade</th>\n",
       "      <th>sub_grade</th>\n",
       "      <th>emp_title</th>\n",
       "      <th>emp_length</th>\n",
       "      <th>home_ownership</th>\n",
       "      <th>...</th>\n",
       "      <th>delinq_2yrs</th>\n",
       "      <th>mths_since_last_delinq</th>\n",
       "      <th>revol_bal</th>\n",
       "      <th>total_rec_late_fee</th>\n",
       "      <th>recoveries</th>\n",
       "      <th>application_type</th>\n",
       "      <th>tot_coll_amt</th>\n",
       "      <th>tot_cur_bal</th>\n",
       "      <th>chargeoff_within_12_mths</th>\n",
       "      <th>delinq_amnt</th>\n",
       "    </tr>\n",
       "  </thead>\n",
       "  <tbody>\n",
       "    <tr>\n",
       "      <th>0</th>\n",
       "      <td>112119128</td>\n",
       "      <td>25000</td>\n",
       "      <td>60 months</td>\n",
       "      <td>15.05%</td>\n",
       "      <td>595.41</td>\n",
       "      <td>C</td>\n",
       "      <td>C4</td>\n",
       "      <td>Supervisor</td>\n",
       "      <td>10+ years</td>\n",
       "      <td>RENT</td>\n",
       "      <td>...</td>\n",
       "      <td>0</td>\n",
       "      <td>NaN</td>\n",
       "      <td>26947</td>\n",
       "      <td>0.0</td>\n",
       "      <td>0.0</td>\n",
       "      <td>Individual</td>\n",
       "      <td>0</td>\n",
       "      <td>26947</td>\n",
       "      <td>0</td>\n",
       "      <td>0</td>\n",
       "    </tr>\n",
       "    <tr>\n",
       "      <th>1</th>\n",
       "      <td>112436920</td>\n",
       "      <td>26000</td>\n",
       "      <td>36 months</td>\n",
       "      <td>9.93%</td>\n",
       "      <td>838.10</td>\n",
       "      <td>B</td>\n",
       "      <td>B2</td>\n",
       "      <td>Dealer</td>\n",
       "      <td>7 years</td>\n",
       "      <td>OWN</td>\n",
       "      <td>...</td>\n",
       "      <td>0</td>\n",
       "      <td>NaN</td>\n",
       "      <td>6857</td>\n",
       "      <td>0.0</td>\n",
       "      <td>0.0</td>\n",
       "      <td>Individual</td>\n",
       "      <td>0</td>\n",
       "      <td>41031</td>\n",
       "      <td>0</td>\n",
       "      <td>0</td>\n",
       "    </tr>\n",
       "    <tr>\n",
       "      <th>2</th>\n",
       "      <td>112390231</td>\n",
       "      <td>20000</td>\n",
       "      <td>36 months</td>\n",
       "      <td>9.44%</td>\n",
       "      <td>640.10</td>\n",
       "      <td>B</td>\n",
       "      <td>B1</td>\n",
       "      <td>Executive Assistant</td>\n",
       "      <td>&lt; 1 year</td>\n",
       "      <td>RENT</td>\n",
       "      <td>...</td>\n",
       "      <td>2</td>\n",
       "      <td>16.0</td>\n",
       "      <td>20589</td>\n",
       "      <td>0.0</td>\n",
       "      <td>0.0</td>\n",
       "      <td>Individual</td>\n",
       "      <td>0</td>\n",
       "      <td>37895</td>\n",
       "      <td>0</td>\n",
       "      <td>0</td>\n",
       "    </tr>\n",
       "    <tr>\n",
       "      <th>3</th>\n",
       "      <td>112156817</td>\n",
       "      <td>10000</td>\n",
       "      <td>36 months</td>\n",
       "      <td>7.21%</td>\n",
       "      <td>309.74</td>\n",
       "      <td>A</td>\n",
       "      <td>A3</td>\n",
       "      <td>Regional Practice Director</td>\n",
       "      <td>7 years</td>\n",
       "      <td>OWN</td>\n",
       "      <td>...</td>\n",
       "      <td>0</td>\n",
       "      <td>44.0</td>\n",
       "      <td>18633</td>\n",
       "      <td>0.0</td>\n",
       "      <td>0.0</td>\n",
       "      <td>Individual</td>\n",
       "      <td>0</td>\n",
       "      <td>278599</td>\n",
       "      <td>0</td>\n",
       "      <td>0</td>\n",
       "    </tr>\n",
       "    <tr>\n",
       "      <th>4</th>\n",
       "      <td>112438887</td>\n",
       "      <td>15000</td>\n",
       "      <td>36 months</td>\n",
       "      <td>7.97%</td>\n",
       "      <td>469.84</td>\n",
       "      <td>A</td>\n",
       "      <td>A5</td>\n",
       "      <td>Senior Software Engineer</td>\n",
       "      <td>3 years</td>\n",
       "      <td>MORTGAGE</td>\n",
       "      <td>...</td>\n",
       "      <td>0</td>\n",
       "      <td>NaN</td>\n",
       "      <td>14460</td>\n",
       "      <td>0.0</td>\n",
       "      <td>0.0</td>\n",
       "      <td>Individual</td>\n",
       "      <td>0</td>\n",
       "      <td>279860</td>\n",
       "      <td>0</td>\n",
       "      <td>0</td>\n",
       "    </tr>\n",
       "  </tbody>\n",
       "</table>\n",
       "<p>5 rows × 26 columns</p>\n",
       "</div>"
      ],
      "text/plain": [
       "          id  loan_amnt        term int_rate  installment grade sub_grade  \\\n",
       "0  112119128      25000   60 months   15.05%       595.41     C        C4   \n",
       "1  112436920      26000   36 months    9.93%       838.10     B        B2   \n",
       "2  112390231      20000   36 months    9.44%       640.10     B        B1   \n",
       "3  112156817      10000   36 months    7.21%       309.74     A        A3   \n",
       "4  112438887      15000   36 months    7.97%       469.84     A        A5   \n",
       "\n",
       "                    emp_title emp_length home_ownership     ...       \\\n",
       "0                  Supervisor  10+ years           RENT     ...        \n",
       "1                      Dealer    7 years            OWN     ...        \n",
       "2         Executive Assistant   < 1 year           RENT     ...        \n",
       "3  Regional Practice Director    7 years            OWN     ...        \n",
       "4    Senior Software Engineer    3 years       MORTGAGE     ...        \n",
       "\n",
       "   delinq_2yrs mths_since_last_delinq revol_bal total_rec_late_fee recoveries  \\\n",
       "0            0                    NaN     26947                0.0        0.0   \n",
       "1            0                    NaN      6857                0.0        0.0   \n",
       "2            2                   16.0     20589                0.0        0.0   \n",
       "3            0                   44.0     18633                0.0        0.0   \n",
       "4            0                    NaN     14460                0.0        0.0   \n",
       "\n",
       "   application_type  tot_coll_amt  tot_cur_bal  chargeoff_within_12_mths  \\\n",
       "0        Individual             0        26947                         0   \n",
       "1        Individual             0        41031                         0   \n",
       "2        Individual             0        37895                         0   \n",
       "3        Individual             0       278599                         0   \n",
       "4        Individual             0       279860                         0   \n",
       "\n",
       "   delinq_amnt  \n",
       "0            0  \n",
       "1            0  \n",
       "2            0  \n",
       "3            0  \n",
       "4            0  \n",
       "\n",
       "[5 rows x 26 columns]"
      ]
     },
     "execution_count": 6,
     "metadata": {},
     "output_type": "execute_result"
    }
   ],
   "source": [
    "lc.head()"
   ]
  },
  {
   "cell_type": "code",
   "execution_count": 7,
   "metadata": {},
   "outputs": [
    {
     "data": {
      "text/plain": [
       "pandas.core.frame.DataFrame"
      ]
     },
     "execution_count": 7,
     "metadata": {},
     "output_type": "execute_result"
    }
   ],
   "source": [
    "type(lc)"
   ]
  },
  {
   "cell_type": "code",
   "execution_count": 8,
   "metadata": {
    "collapsed": true,
    "scrolled": true
   },
   "outputs": [],
   "source": [
    "lc.drop(\"id\", axis = 1, inplace= True)"
   ]
  },
  {
   "cell_type": "code",
   "execution_count": 9,
   "metadata": {},
   "outputs": [
    {
     "name": "stdout",
     "output_type": "stream",
     "text": [
      "<class 'pandas.core.frame.DataFrame'>\n",
      "RangeIndex: 105451 entries, 0 to 105450\n",
      "Data columns (total 25 columns):\n",
      "loan_amnt                   105451 non-null int64\n",
      "term                        105451 non-null object\n",
      "int_rate                    105451 non-null object\n",
      "installment                 105451 non-null float64\n",
      "grade                       105451 non-null object\n",
      "sub_grade                   105451 non-null object\n",
      "emp_title                   98669 non-null object\n",
      "emp_length                  105451 non-null object\n",
      "home_ownership              105451 non-null object\n",
      "annual_inc                  105451 non-null float64\n",
      "issue_d                     105451 non-null object\n",
      "loan_status                 105451 non-null object\n",
      "purpose                     105451 non-null object\n",
      "title                       105451 non-null object\n",
      "dti                         105376 non-null float64\n",
      "delinq_2yrs                 105451 non-null int64\n",
      "mths_since_last_delinq      54332 non-null float64\n",
      "revol_bal                   105451 non-null int64\n",
      "total_rec_late_fee          105451 non-null float64\n",
      "recoveries                  105451 non-null float64\n",
      "application_type            105451 non-null object\n",
      "tot_coll_amt                105451 non-null int64\n",
      "tot_cur_bal                 105451 non-null int64\n",
      "chargeoff_within_12_mths    105451 non-null int64\n",
      "delinq_amnt                 105451 non-null int64\n",
      "dtypes: float64(6), int64(7), object(12)\n",
      "memory usage: 20.1+ MB\n"
     ]
    }
   ],
   "source": [
    "lc.info()"
   ]
  },
  {
   "cell_type": "code",
   "execution_count": 10,
   "metadata": {},
   "outputs": [
    {
     "data": {
      "text/html": [
       "<div>\n",
       "<style>\n",
       "    .dataframe thead tr:only-child th {\n",
       "        text-align: right;\n",
       "    }\n",
       "\n",
       "    .dataframe thead th {\n",
       "        text-align: left;\n",
       "    }\n",
       "\n",
       "    .dataframe tbody tr th {\n",
       "        vertical-align: top;\n",
       "    }\n",
       "</style>\n",
       "<table border=\"1\" class=\"dataframe\">\n",
       "  <thead>\n",
       "    <tr style=\"text-align: right;\">\n",
       "      <th></th>\n",
       "      <th>loan_amnt</th>\n",
       "      <th>installment</th>\n",
       "      <th>annual_inc</th>\n",
       "      <th>dti</th>\n",
       "      <th>delinq_2yrs</th>\n",
       "      <th>mths_since_last_delinq</th>\n",
       "      <th>revol_bal</th>\n",
       "      <th>total_rec_late_fee</th>\n",
       "      <th>recoveries</th>\n",
       "      <th>tot_coll_amt</th>\n",
       "      <th>tot_cur_bal</th>\n",
       "      <th>chargeoff_within_12_mths</th>\n",
       "      <th>delinq_amnt</th>\n",
       "    </tr>\n",
       "  </thead>\n",
       "  <tbody>\n",
       "    <tr>\n",
       "      <th>count</th>\n",
       "      <td>105451.000000</td>\n",
       "      <td>105451.000000</td>\n",
       "      <td>1.054510e+05</td>\n",
       "      <td>105376.000000</td>\n",
       "      <td>105451.000000</td>\n",
       "      <td>54332.00000</td>\n",
       "      <td>1.054510e+05</td>\n",
       "      <td>105451.000000</td>\n",
       "      <td>105451.000000</td>\n",
       "      <td>105451.000000</td>\n",
       "      <td>1.054510e+05</td>\n",
       "      <td>105451.000000</td>\n",
       "      <td>105451.000000</td>\n",
       "    </tr>\n",
       "    <tr>\n",
       "      <th>mean</th>\n",
       "      <td>14589.070516</td>\n",
       "      <td>436.796015</td>\n",
       "      <td>8.045197e+04</td>\n",
       "      <td>18.987276</td>\n",
       "      <td>0.356052</td>\n",
       "      <td>33.28613</td>\n",
       "      <td>1.659603e+04</td>\n",
       "      <td>0.304059</td>\n",
       "      <td>0.254452</td>\n",
       "      <td>238.743160</td>\n",
       "      <td>1.476414e+05</td>\n",
       "      <td>0.009189</td>\n",
       "      <td>16.598382</td>\n",
       "    </tr>\n",
       "    <tr>\n",
       "      <th>std</th>\n",
       "      <td>9478.834204</td>\n",
       "      <td>280.181663</td>\n",
       "      <td>6.822064e+04</td>\n",
       "      <td>14.145490</td>\n",
       "      <td>0.962047</td>\n",
       "      <td>21.91821</td>\n",
       "      <td>2.296594e+04</td>\n",
       "      <td>3.572760</td>\n",
       "      <td>27.604537</td>\n",
       "      <td>1965.459727</td>\n",
       "      <td>1.647652e+05</td>\n",
       "      <td>0.105249</td>\n",
       "      <td>744.727563</td>\n",
       "    </tr>\n",
       "    <tr>\n",
       "      <th>min</th>\n",
       "      <td>1000.000000</td>\n",
       "      <td>30.120000</td>\n",
       "      <td>0.000000e+00</td>\n",
       "      <td>0.000000</td>\n",
       "      <td>0.000000</td>\n",
       "      <td>0.00000</td>\n",
       "      <td>0.000000e+00</td>\n",
       "      <td>0.000000</td>\n",
       "      <td>0.000000</td>\n",
       "      <td>0.000000</td>\n",
       "      <td>0.000000e+00</td>\n",
       "      <td>0.000000</td>\n",
       "      <td>0.000000</td>\n",
       "    </tr>\n",
       "    <tr>\n",
       "      <th>25%</th>\n",
       "      <td>7000.000000</td>\n",
       "      <td>232.640000</td>\n",
       "      <td>4.800000e+04</td>\n",
       "      <td>12.230000</td>\n",
       "      <td>0.000000</td>\n",
       "      <td>15.00000</td>\n",
       "      <td>5.887000e+03</td>\n",
       "      <td>0.000000</td>\n",
       "      <td>0.000000</td>\n",
       "      <td>0.000000</td>\n",
       "      <td>2.996700e+04</td>\n",
       "      <td>0.000000</td>\n",
       "      <td>0.000000</td>\n",
       "    </tr>\n",
       "    <tr>\n",
       "      <th>50%</th>\n",
       "      <td>12000.000000</td>\n",
       "      <td>361.380000</td>\n",
       "      <td>6.800000e+04</td>\n",
       "      <td>18.120000</td>\n",
       "      <td>0.000000</td>\n",
       "      <td>30.00000</td>\n",
       "      <td>1.117000e+04</td>\n",
       "      <td>0.000000</td>\n",
       "      <td>0.000000</td>\n",
       "      <td>0.000000</td>\n",
       "      <td>8.366000e+04</td>\n",
       "      <td>0.000000</td>\n",
       "      <td>0.000000</td>\n",
       "    </tr>\n",
       "    <tr>\n",
       "      <th>75%</th>\n",
       "      <td>20000.000000</td>\n",
       "      <td>584.370000</td>\n",
       "      <td>9.700000e+04</td>\n",
       "      <td>24.580000</td>\n",
       "      <td>0.000000</td>\n",
       "      <td>49.00000</td>\n",
       "      <td>1.993350e+04</td>\n",
       "      <td>0.000000</td>\n",
       "      <td>0.000000</td>\n",
       "      <td>0.000000</td>\n",
       "      <td>2.213720e+05</td>\n",
       "      <td>0.000000</td>\n",
       "      <td>0.000000</td>\n",
       "    </tr>\n",
       "    <tr>\n",
       "      <th>max</th>\n",
       "      <td>40000.000000</td>\n",
       "      <td>1719.830000</td>\n",
       "      <td>8.900000e+06</td>\n",
       "      <td>999.000000</td>\n",
       "      <td>42.000000</td>\n",
       "      <td>161.00000</td>\n",
       "      <td>1.039013e+06</td>\n",
       "      <td>165.660000</td>\n",
       "      <td>4693.930000</td>\n",
       "      <td>262740.000000</td>\n",
       "      <td>3.566850e+06</td>\n",
       "      <td>4.000000</td>\n",
       "      <td>65000.000000</td>\n",
       "    </tr>\n",
       "  </tbody>\n",
       "</table>\n",
       "</div>"
      ],
      "text/plain": [
       "           loan_amnt    installment    annual_inc            dti  \\\n",
       "count  105451.000000  105451.000000  1.054510e+05  105376.000000   \n",
       "mean    14589.070516     436.796015  8.045197e+04      18.987276   \n",
       "std      9478.834204     280.181663  6.822064e+04      14.145490   \n",
       "min      1000.000000      30.120000  0.000000e+00       0.000000   \n",
       "25%      7000.000000     232.640000  4.800000e+04      12.230000   \n",
       "50%     12000.000000     361.380000  6.800000e+04      18.120000   \n",
       "75%     20000.000000     584.370000  9.700000e+04      24.580000   \n",
       "max     40000.000000    1719.830000  8.900000e+06     999.000000   \n",
       "\n",
       "         delinq_2yrs  mths_since_last_delinq     revol_bal  \\\n",
       "count  105451.000000             54332.00000  1.054510e+05   \n",
       "mean        0.356052                33.28613  1.659603e+04   \n",
       "std         0.962047                21.91821  2.296594e+04   \n",
       "min         0.000000                 0.00000  0.000000e+00   \n",
       "25%         0.000000                15.00000  5.887000e+03   \n",
       "50%         0.000000                30.00000  1.117000e+04   \n",
       "75%         0.000000                49.00000  1.993350e+04   \n",
       "max        42.000000               161.00000  1.039013e+06   \n",
       "\n",
       "       total_rec_late_fee     recoveries   tot_coll_amt   tot_cur_bal  \\\n",
       "count       105451.000000  105451.000000  105451.000000  1.054510e+05   \n",
       "mean             0.304059       0.254452     238.743160  1.476414e+05   \n",
       "std              3.572760      27.604537    1965.459727  1.647652e+05   \n",
       "min              0.000000       0.000000       0.000000  0.000000e+00   \n",
       "25%              0.000000       0.000000       0.000000  2.996700e+04   \n",
       "50%              0.000000       0.000000       0.000000  8.366000e+04   \n",
       "75%              0.000000       0.000000       0.000000  2.213720e+05   \n",
       "max            165.660000    4693.930000  262740.000000  3.566850e+06   \n",
       "\n",
       "       chargeoff_within_12_mths    delinq_amnt  \n",
       "count             105451.000000  105451.000000  \n",
       "mean                   0.009189      16.598382  \n",
       "std                    0.105249     744.727563  \n",
       "min                    0.000000       0.000000  \n",
       "25%                    0.000000       0.000000  \n",
       "50%                    0.000000       0.000000  \n",
       "75%                    0.000000       0.000000  \n",
       "max                    4.000000   65000.000000  "
      ]
     },
     "execution_count": 10,
     "metadata": {},
     "output_type": "execute_result"
    }
   ],
   "source": [
    "lc.describe()"
   ]
  },
  {
   "cell_type": "code",
   "execution_count": 11,
   "metadata": {},
   "outputs": [
    {
     "data": {
      "text/plain": [
       "<matplotlib.axes._subplots.AxesSubplot at 0x1696706ce48>"
      ]
     },
     "execution_count": 11,
     "metadata": {},
     "output_type": "execute_result"
    },
    {
     "data": {
      "image/png": "[encoded data removed]",
      "text/plain": [
       "<matplotlib.figure.Figure at 0x16967039f28>"
      ]
     },
     "metadata": {},
     "output_type": "display_data"
    }
   ],
   "source": [
    "sns.countplot(x = \"loan_status\", data = lc)"
   ]
  },
  {
   "cell_type": "markdown",
   "metadata": {},
   "source": [
    "\"Current\" in loan status is ongoing loan however I want to look at historical data so I delete \"current\" loan in rows."
   ]
  },
  {
   "cell_type": "code",
   "execution_count": 12,
   "metadata": {
    "collapsed": true
   },
   "outputs": [],
   "source": [
    "lc.drop(lc[lc[\"loan_status\"] == \"Current\"].index, inplace = True)"
   ]
  },
  {
   "cell_type": "code",
   "execution_count": 13,
   "metadata": {},
   "outputs": [
    {
     "data": {
      "text/plain": [
       "array(['Fully Paid', 'Late (31-120 days)', 'In Grace Period',\n",
       "       'Charged Off', 'Late (16-30 days)', 'Default'], dtype=object)"
      ]
     },
     "execution_count": 13,
     "metadata": {},
     "output_type": "execute_result"
    }
   ],
   "source": [
    "lc[\"loan_status\"].unique()"
   ]
  },
  {
   "cell_type": "code",
   "execution_count": 14,
   "metadata": {},
   "outputs": [
    {
     "data": {
      "text/plain": [
       "<matplotlib.axes._subplots.AxesSubplot at 0x16967a90ba8>"
      ]
     },
     "execution_count": 14,
     "metadata": {},
     "output_type": "execute_result"
    },
    {
     "data": {
      "image/png": "[encoded data removed]",
      "text/plain": [
       "<matplotlib.figure.Figure at 0x16967aaba58>"
      ]
     },
     "metadata": {},
     "output_type": "display_data"
    }
   ],
   "source": [
    "sns.countplot(x = \"loan_status\", data = lc)"
   ]
  },
  {
   "cell_type": "code",
   "execution_count": 15,
   "metadata": {},
   "outputs": [
    {
     "data": {
      "text/plain": [
       "<matplotlib.axes._subplots.AxesSubplot at 0x16967101240>"
      ]
     },
     "execution_count": 15,
     "metadata": {},
     "output_type": "execute_result"
    },
    {
     "data": {
      "image/png": "[encoded data removed]",
      "text/plain": [
       "<matplotlib.figure.Figure at 0x16967a839e8>"
      ]
     },
     "metadata": {},
     "output_type": "display_data"
    }
   ],
   "source": [
    "sns.barplot(x = \"loan_status\", y = \"loan_amnt\", data = lc, estimator = np.sum)"
   ]
  },
  {
   "cell_type": "code",
   "execution_count": 16,
   "metadata": {},
   "outputs": [
    {
     "data": {
      "text/plain": [
       "<matplotlib.axes._subplots.AxesSubplot at 0x16967198940>"
      ]
     },
     "execution_count": 16,
     "metadata": {},
     "output_type": "execute_result"
    },
    {
     "data": {
      "image/png": "[encoded data removed]",
      "text/plain": [
       "<matplotlib.figure.Figure at 0x169671a1160>"
      ]
     },
     "metadata": {},
     "output_type": "display_data"
    }
   ],
   "source": [
    "sns.distplot(lc[\"loan_amnt\"], kde = False)"
   ]
  },
  {
   "cell_type": "code",
   "execution_count": 17,
   "metadata": {},
   "outputs": [
    {
     "data": {
      "text/plain": [
       "<matplotlib.axes._subplots.AxesSubplot at 0x169692b51d0>"
      ]
     },
     "execution_count": 17,
     "metadata": {},
     "output_type": "execute_result"
    },
    {
     "data": {
      "image/png": "[encoded data removed]",
      "text/plain": [
       "<matplotlib.figure.Figure at 0x169672eb5f8>"
      ]
     },
     "metadata": {},
     "output_type": "display_data"
    }
   ],
   "source": [
    "plt.figure(figsize=(10, 6))\n",
    "sns.heatmap(lc.corr(), annot= True, cmap= \"coolwarm\")"
   ]
  },
  {
   "cell_type": "markdown",
   "metadata": {},
   "source": [
    "Original data set has \"dti\" (debt to income ratio) which takes into account all debt of borrower including credit cards, mortgage and other loans. However, we can't see detail of all debt. So, I want to create a risk index as installment divided by annual income, which is also necessary for the purpose of the assignment to define \"function\" and use \"apply\". Then, I remove dti column.\n",
    "Since some values for annual income are zero, I remove them."
   ]
  },
  {
   "cell_type": "code",
   "execution_count": 18,
   "metadata": {
    "collapsed": true
   },
   "outputs": [],
   "source": [
    "lc.drop(lc[lc[\"annual_inc\"] == 0].index, inplace = True)\n",
    "lc.drop(\"dti\", axis = 1, inplace = True)"
   ]
  },
  {
   "cell_type": "code",
   "execution_count": 19,
   "metadata": {
    "collapsed": true
   },
   "outputs": [],
   "source": [
    "def risk(x, y):\n",
    "    return (x*12)/y"
   ]
  },
  {
   "cell_type": "code",
   "execution_count": 20,
   "metadata": {
    "collapsed": true
   },
   "outputs": [],
   "source": [
    "lc[\"risk_index\"] = lc.apply(lambda col: risk(col[\"installment\"], col[\"annual_inc\"]), axis = 1)"
   ]
  },
  {
   "cell_type": "code",
   "execution_count": 21,
   "metadata": {
    "scrolled": true
   },
   "outputs": [
    {
     "data": {
      "text/html": [
       "<div>\n",
       "<style>\n",
       "    .dataframe thead tr:only-child th {\n",
       "        text-align: right;\n",
       "    }\n",
       "\n",
       "    .dataframe thead th {\n",
       "        text-align: left;\n",
       "    }\n",
       "\n",
       "    .dataframe tbody tr th {\n",
       "        vertical-align: top;\n",
       "    }\n",
       "</style>\n",
       "<table border=\"1\" class=\"dataframe\">\n",
       "  <thead>\n",
       "    <tr style=\"text-align: right;\">\n",
       "      <th></th>\n",
       "      <th>loan_amnt</th>\n",
       "      <th>installment</th>\n",
       "      <th>annual_inc</th>\n",
       "      <th>delinq_2yrs</th>\n",
       "      <th>mths_since_last_delinq</th>\n",
       "      <th>revol_bal</th>\n",
       "      <th>total_rec_late_fee</th>\n",
       "      <th>recoveries</th>\n",
       "      <th>tot_coll_amt</th>\n",
       "      <th>tot_cur_bal</th>\n",
       "      <th>chargeoff_within_12_mths</th>\n",
       "      <th>delinq_amnt</th>\n",
       "      <th>risk_index</th>\n",
       "    </tr>\n",
       "  </thead>\n",
       "  <tbody>\n",
       "    <tr>\n",
       "      <th>count</th>\n",
       "      <td>11758.00000</td>\n",
       "      <td>11758.000000</td>\n",
       "      <td>1.175800e+04</td>\n",
       "      <td>11758.000000</td>\n",
       "      <td>6147.000000</td>\n",
       "      <td>11758.000000</td>\n",
       "      <td>11758.000000</td>\n",
       "      <td>11758.000000</td>\n",
       "      <td>11758.000000</td>\n",
       "      <td>1.175800e+04</td>\n",
       "      <td>11758.000000</td>\n",
       "      <td>11758.000000</td>\n",
       "      <td>11758.000000</td>\n",
       "    </tr>\n",
       "    <tr>\n",
       "      <th>mean</th>\n",
       "      <td>14315.21092</td>\n",
       "      <td>446.733038</td>\n",
       "      <td>8.213368e+04</td>\n",
       "      <td>0.356693</td>\n",
       "      <td>33.501708</td>\n",
       "      <td>16269.973890</td>\n",
       "      <td>1.284451</td>\n",
       "      <td>2.282037</td>\n",
       "      <td>227.848188</td>\n",
       "      <td>1.591896e+05</td>\n",
       "      <td>0.009866</td>\n",
       "      <td>15.043205</td>\n",
       "      <td>0.079298</td>\n",
       "    </tr>\n",
       "    <tr>\n",
       "      <th>std</th>\n",
       "      <td>9589.54739</td>\n",
       "      <td>300.633617</td>\n",
       "      <td>7.821017e+04</td>\n",
       "      <td>0.947819</td>\n",
       "      <td>22.038139</td>\n",
       "      <td>23877.589551</td>\n",
       "      <td>7.614694</td>\n",
       "      <td>82.643449</td>\n",
       "      <td>2291.374088</td>\n",
       "      <td>1.752500e+05</td>\n",
       "      <td>0.108676</td>\n",
       "      <td>716.045828</td>\n",
       "      <td>0.160950</td>\n",
       "    </tr>\n",
       "    <tr>\n",
       "      <th>min</th>\n",
       "      <td>1000.00000</td>\n",
       "      <td>30.120000</td>\n",
       "      <td>6.000000e+02</td>\n",
       "      <td>0.000000</td>\n",
       "      <td>0.000000</td>\n",
       "      <td>0.000000</td>\n",
       "      <td>0.000000</td>\n",
       "      <td>0.000000</td>\n",
       "      <td>0.000000</td>\n",
       "      <td>0.000000e+00</td>\n",
       "      <td>0.000000</td>\n",
       "      <td>0.000000</td>\n",
       "      <td>0.000797</td>\n",
       "    </tr>\n",
       "    <tr>\n",
       "      <th>25%</th>\n",
       "      <td>6600.00000</td>\n",
       "      <td>222.990000</td>\n",
       "      <td>5.000000e+04</td>\n",
       "      <td>0.000000</td>\n",
       "      <td>15.000000</td>\n",
       "      <td>5437.250000</td>\n",
       "      <td>0.000000</td>\n",
       "      <td>0.000000</td>\n",
       "      <td>0.000000</td>\n",
       "      <td>3.329325e+04</td>\n",
       "      <td>0.000000</td>\n",
       "      <td>0.000000</td>\n",
       "      <td>0.038955</td>\n",
       "    </tr>\n",
       "    <tr>\n",
       "      <th>50%</th>\n",
       "      <td>12000.00000</td>\n",
       "      <td>361.620000</td>\n",
       "      <td>7.000000e+04</td>\n",
       "      <td>0.000000</td>\n",
       "      <td>30.000000</td>\n",
       "      <td>10766.500000</td>\n",
       "      <td>0.000000</td>\n",
       "      <td>0.000000</td>\n",
       "      <td>0.000000</td>\n",
       "      <td>9.716850e+04</td>\n",
       "      <td>0.000000</td>\n",
       "      <td>0.000000</td>\n",
       "      <td>0.065065</td>\n",
       "    </tr>\n",
       "    <tr>\n",
       "      <th>75%</th>\n",
       "      <td>20000.00000</td>\n",
       "      <td>607.337500</td>\n",
       "      <td>9.848100e+04</td>\n",
       "      <td>0.000000</td>\n",
       "      <td>49.000000</td>\n",
       "      <td>19570.250000</td>\n",
       "      <td>0.000000</td>\n",
       "      <td>0.000000</td>\n",
       "      <td>0.000000</td>\n",
       "      <td>2.377418e+05</td>\n",
       "      <td>0.000000</td>\n",
       "      <td>0.000000</td>\n",
       "      <td>0.100891</td>\n",
       "    </tr>\n",
       "    <tr>\n",
       "      <th>max</th>\n",
       "      <td>40000.00000</td>\n",
       "      <td>1546.520000</td>\n",
       "      <td>5.616890e+06</td>\n",
       "      <td>14.000000</td>\n",
       "      <td>158.000000</td>\n",
       "      <td>606088.000000</td>\n",
       "      <td>165.660000</td>\n",
       "      <td>4693.930000</td>\n",
       "      <td>199433.000000</td>\n",
       "      <td>3.566850e+06</td>\n",
       "      <td>3.000000</td>\n",
       "      <td>65000.000000</td>\n",
       "      <td>15.393480</td>\n",
       "    </tr>\n",
       "  </tbody>\n",
       "</table>\n",
       "</div>"
      ],
      "text/plain": [
       "         loan_amnt   installment    annual_inc   delinq_2yrs  \\\n",
       "count  11758.00000  11758.000000  1.175800e+04  11758.000000   \n",
       "mean   14315.21092    446.733038  8.213368e+04      0.356693   \n",
       "std     9589.54739    300.633617  7.821017e+04      0.947819   \n",
       "min     1000.00000     30.120000  6.000000e+02      0.000000   \n",
       "25%     6600.00000    222.990000  5.000000e+04      0.000000   \n",
       "50%    12000.00000    361.620000  7.000000e+04      0.000000   \n",
       "75%    20000.00000    607.337500  9.848100e+04      0.000000   \n",
       "max    40000.00000   1546.520000  5.616890e+06     14.000000   \n",
       "\n",
       "       mths_since_last_delinq      revol_bal  total_rec_late_fee  \\\n",
       "count             6147.000000   11758.000000        11758.000000   \n",
       "mean                33.501708   16269.973890            1.284451   \n",
       "std                 22.038139   23877.589551            7.614694   \n",
       "min                  0.000000       0.000000            0.000000   \n",
       "25%                 15.000000    5437.250000            0.000000   \n",
       "50%                 30.000000   10766.500000            0.000000   \n",
       "75%                 49.000000   19570.250000            0.000000   \n",
       "max                158.000000  606088.000000          165.660000   \n",
       "\n",
       "         recoveries   tot_coll_amt   tot_cur_bal  chargeoff_within_12_mths  \\\n",
       "count  11758.000000   11758.000000  1.175800e+04              11758.000000   \n",
       "mean       2.282037     227.848188  1.591896e+05                  0.009866   \n",
       "std       82.643449    2291.374088  1.752500e+05                  0.108676   \n",
       "min        0.000000       0.000000  0.000000e+00                  0.000000   \n",
       "25%        0.000000       0.000000  3.329325e+04                  0.000000   \n",
       "50%        0.000000       0.000000  9.716850e+04                  0.000000   \n",
       "75%        0.000000       0.000000  2.377418e+05                  0.000000   \n",
       "max     4693.930000  199433.000000  3.566850e+06                  3.000000   \n",
       "\n",
       "        delinq_amnt    risk_index  \n",
       "count  11758.000000  11758.000000  \n",
       "mean      15.043205      0.079298  \n",
       "std      716.045828      0.160950  \n",
       "min        0.000000      0.000797  \n",
       "25%        0.000000      0.038955  \n",
       "50%        0.000000      0.065065  \n",
       "75%        0.000000      0.100891  \n",
       "max    65000.000000     15.393480  "
      ]
     },
     "execution_count": 21,
     "metadata": {},
     "output_type": "execute_result"
    }
   ],
   "source": [
    "lc.describe()"
   ]
  },
  {
   "cell_type": "code",
   "execution_count": 22,
   "metadata": {},
   "outputs": [
    {
     "data": {
      "text/plain": [
       "array(['Fully Paid', 'Late (31-120 days)', 'In Grace Period',\n",
       "       'Charged Off', 'Late (16-30 days)', 'Default'], dtype=object)"
      ]
     },
     "execution_count": 22,
     "metadata": {},
     "output_type": "execute_result"
    }
   ],
   "source": [
    "lc[\"loan_status\"].unique()"
   ]
  },
  {
   "cell_type": "code",
   "execution_count": 23,
   "metadata": {
    "collapsed": true
   },
   "outputs": [],
   "source": [
    "sixty_months = pd.get_dummies(lc[\"term\"], drop_first= True)"
   ]
  },
  {
   "cell_type": "code",
   "execution_count": 24,
   "metadata": {
    "collapsed": true
   },
   "outputs": [],
   "source": [
    "home_ownership = pd.get_dummies(lc[\"home_ownership\"], drop_first= True)"
   ]
  },
  {
   "cell_type": "code",
   "execution_count": 25,
   "metadata": {
    "collapsed": true,
    "scrolled": true
   },
   "outputs": [],
   "source": [
    "lc.drop([\"int_rate\", \"installment\", \"grade\", \"sub_grade\", \"issue_d\", \"purpose\", \"title\", \"emp_title\", \"emp_length\", \"annual_inc\",\"mths_since_last_delinq\", \"application_type\", \"tot_coll_amt\", \"chargeoff_within_12_mths\"], axis = 1, inplace= True)"
   ]
  },
  {
   "cell_type": "code",
   "execution_count": 26,
   "metadata": {
    "collapsed": true
   },
   "outputs": [],
   "source": [
    "lc[\"sixty_months\"] = sixty_months"
   ]
  },
  {
   "cell_type": "code",
   "execution_count": 27,
   "metadata": {
    "collapsed": true
   },
   "outputs": [],
   "source": [
    "home_ownership = home_ownership.drop(\"MORTGAGE\", axis = 1)"
   ]
  },
  {
   "cell_type": "code",
   "execution_count": 28,
   "metadata": {
    "collapsed": true
   },
   "outputs": [],
   "source": [
    "lc[\"home_ownership\"] = home_ownership"
   ]
  },
  {
   "cell_type": "code",
   "execution_count": 29,
   "metadata": {
    "collapsed": true
   },
   "outputs": [],
   "source": [
    "lc.drop([\"term\"], axis = 1, inplace= True)\n"
   ]
  },
  {
   "cell_type": "code",
   "execution_count": 30,
   "metadata": {
    "collapsed": true,
    "scrolled": true
   },
   "outputs": [],
   "source": [
    "y = np.where(lc['loan_status']=='Charged Off', 1, 0)"
   ]
  },
  {
   "cell_type": "code",
   "execution_count": 31,
   "metadata": {},
   "outputs": [
    {
     "data": {
      "text/plain": [
       "array([0, 0, 0, ..., 0, 0, 1])"
      ]
     },
     "execution_count": 31,
     "metadata": {},
     "output_type": "execute_result"
    }
   ],
   "source": [
    "y"
   ]
  },
  {
   "cell_type": "code",
   "execution_count": 32,
   "metadata": {
    "collapsed": true
   },
   "outputs": [],
   "source": [
    "lc.drop(\"loan_status\", inplace= True, axis = 1)"
   ]
  },
  {
   "cell_type": "code",
   "execution_count": 33,
   "metadata": {},
   "outputs": [
    {
     "data": {
      "text/html": [
       "<div>\n",
       "<style>\n",
       "    .dataframe thead tr:only-child th {\n",
       "        text-align: right;\n",
       "    }\n",
       "\n",
       "    .dataframe thead th {\n",
       "        text-align: left;\n",
       "    }\n",
       "\n",
       "    .dataframe tbody tr th {\n",
       "        vertical-align: top;\n",
       "    }\n",
       "</style>\n",
       "<table border=\"1\" class=\"dataframe\">\n",
       "  <thead>\n",
       "    <tr style=\"text-align: right;\">\n",
       "      <th></th>\n",
       "      <th>loan_amnt</th>\n",
       "      <th>home_ownership</th>\n",
       "      <th>delinq_2yrs</th>\n",
       "      <th>revol_bal</th>\n",
       "      <th>total_rec_late_fee</th>\n",
       "      <th>recoveries</th>\n",
       "      <th>tot_cur_bal</th>\n",
       "      <th>delinq_amnt</th>\n",
       "      <th>risk_index</th>\n",
       "      <th>sixty_months</th>\n",
       "    </tr>\n",
       "  </thead>\n",
       "  <tbody>\n",
       "    <tr>\n",
       "      <th>9</th>\n",
       "      <td>7500</td>\n",
       "      <td>0</td>\n",
       "      <td>0</td>\n",
       "      <td>23348</td>\n",
       "      <td>0.0</td>\n",
       "      <td>0.0</td>\n",
       "      <td>276461</td>\n",
       "      <td>0</td>\n",
       "      <td>0.025395</td>\n",
       "      <td>0</td>\n",
       "    </tr>\n",
       "    <tr>\n",
       "      <th>33</th>\n",
       "      <td>11575</td>\n",
       "      <td>1</td>\n",
       "      <td>0</td>\n",
       "      <td>8550</td>\n",
       "      <td>0.0</td>\n",
       "      <td>0.0</td>\n",
       "      <td>442731</td>\n",
       "      <td>0</td>\n",
       "      <td>0.028177</td>\n",
       "      <td>0</td>\n",
       "    </tr>\n",
       "    <tr>\n",
       "      <th>35</th>\n",
       "      <td>7200</td>\n",
       "      <td>0</td>\n",
       "      <td>0</td>\n",
       "      <td>3560</td>\n",
       "      <td>0.0</td>\n",
       "      <td>0.0</td>\n",
       "      <td>5588</td>\n",
       "      <td>0</td>\n",
       "      <td>0.068568</td>\n",
       "      <td>0</td>\n",
       "    </tr>\n",
       "    <tr>\n",
       "      <th>90</th>\n",
       "      <td>40000</td>\n",
       "      <td>0</td>\n",
       "      <td>1</td>\n",
       "      <td>23493</td>\n",
       "      <td>0.0</td>\n",
       "      <td>0.0</td>\n",
       "      <td>655618</td>\n",
       "      <td>0</td>\n",
       "      <td>0.061450</td>\n",
       "      <td>0</td>\n",
       "    </tr>\n",
       "    <tr>\n",
       "      <th>98</th>\n",
       "      <td>5000</td>\n",
       "      <td>0</td>\n",
       "      <td>0</td>\n",
       "      <td>2110</td>\n",
       "      <td>0.0</td>\n",
       "      <td>0.0</td>\n",
       "      <td>6341</td>\n",
       "      <td>0</td>\n",
       "      <td>0.055656</td>\n",
       "      <td>0</td>\n",
       "    </tr>\n",
       "  </tbody>\n",
       "</table>\n",
       "</div>"
      ],
      "text/plain": [
       "    loan_amnt  home_ownership  delinq_2yrs  revol_bal  total_rec_late_fee  \\\n",
       "9        7500               0            0      23348                 0.0   \n",
       "33      11575               1            0       8550                 0.0   \n",
       "35       7200               0            0       3560                 0.0   \n",
       "90      40000               0            1      23493                 0.0   \n",
       "98       5000               0            0       2110                 0.0   \n",
       "\n",
       "    recoveries  tot_cur_bal  delinq_amnt  risk_index  sixty_months  \n",
       "9          0.0       276461            0    0.025395             0  \n",
       "33         0.0       442731            0    0.028177             0  \n",
       "35         0.0         5588            0    0.068568             0  \n",
       "90         0.0       655618            0    0.061450             0  \n",
       "98         0.0         6341            0    0.055656             0  "
      ]
     },
     "execution_count": 33,
     "metadata": {},
     "output_type": "execute_result"
    }
   ],
   "source": [
    "X = lc\n",
    "X.head()"
   ]
  },
  {
   "cell_type": "code",
   "execution_count": 34,
   "metadata": {
    "collapsed": true
   },
   "outputs": [],
   "source": [
    "from sklearn.cross_validation import train_test_split"
   ]
  },
  {
   "cell_type": "code",
   "execution_count": 35,
   "metadata": {
    "collapsed": true
   },
   "outputs": [],
   "source": [
    "X_train, X_test, y_train, y_test = train_test_split(X, y, test_size=0.3, random_state=101)"
   ]
  },
  {
   "cell_type": "code",
   "execution_count": 36,
   "metadata": {
    "collapsed": true
   },
   "outputs": [],
   "source": [
    "from sklearn.linear_model import LogisticRegression"
   ]
  },
  {
   "cell_type": "code",
   "execution_count": 37,
   "metadata": {
    "collapsed": true
   },
   "outputs": [],
   "source": [
    "logmodel = LogisticRegression()"
   ]
  },
  {
   "cell_type": "code",
   "execution_count": 38,
   "metadata": {
    "scrolled": false
   },
   "outputs": [
    {
     "data": {
      "text/plain": [
       "LogisticRegression(C=1.0, class_weight=None, dual=False, fit_intercept=True,\n",
       "          intercept_scaling=1, max_iter=100, multi_class='ovr', n_jobs=1,\n",
       "          penalty='l2', random_state=None, solver='liblinear', tol=0.0001,\n",
       "          verbose=0, warm_start=False)"
      ]
     },
     "execution_count": 38,
     "metadata": {},
     "output_type": "execute_result"
    }
   ],
   "source": [
    "logmodel.fit(X_train,y_train)"
   ]
  },
  {
   "cell_type": "code",
   "execution_count": 39,
   "metadata": {
    "collapsed": true,
    "scrolled": true
   },
   "outputs": [],
   "source": [
    "predictions = logmodel.predict(X_test)"
   ]
  },
  {
   "cell_type": "code",
   "execution_count": 40,
   "metadata": {
    "collapsed": true
   },
   "outputs": [],
   "source": [
    "from sklearn.metrics import classification_report, confusion_matrix"
   ]
  },
  {
   "cell_type": "code",
   "execution_count": 41,
   "metadata": {},
   "outputs": [
    {
     "name": "stdout",
     "output_type": "stream",
     "text": [
      "             precision    recall  f1-score   support\n",
      "\n",
      "          0       0.97      1.00      0.98      3401\n",
      "          1       1.00      0.03      0.06       127\n",
      "\n",
      "avg / total       0.97      0.97      0.95      3528\n",
      "\n",
      "[[3401    0]\n",
      " [ 123    4]]\n"
     ]
    }
   ],
   "source": [
    "print(classification_report(y_test, predictions))\n",
    "print(confusion_matrix(y_test, predictions))"
   ]
  },
  {
   "cell_type": "code",
   "execution_count": null,
   "metadata": {
    "collapsed": true
   },
   "outputs": [],
   "source": []
  }
 ],
 "metadata": {
  "kernelspec": {
   "display_name": "Python 3",
   "language": "python",
   "name": "python3"
  },
  "language_info": {
   "codemirror_mode": {
    "name": "ipython",
    "version": 3
   },
   "file_extension": ".py",
   "mimetype": "text/x-python",
   "name": "python",
   "nbconvert_exporter": "python",
   "pygments_lexer": "ipython3",
   "version": "3.6.1"
  }
 },
 "nbformat": 4,
 "nbformat_minor": 2
}
